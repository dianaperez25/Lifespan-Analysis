{
 "cells": [
  {
   "cell_type": "markdown",
   "metadata": {},
   "source": [
    "# Testing fmriprep output data type"
   ]
  },
  {
   "cell_type": "markdown",
   "metadata": {},
   "source": [
    "### importing packages"
   ]
  },
  {
   "cell_type": "code",
   "execution_count": 1,
   "metadata": {},
   "outputs": [],
   "source": [
    "import numpy as np\n",
    "np.set_printoptions(precision=2, suppress=True)"
   ]
  },
  {
   "cell_type": "code",
   "execution_count": 2,
   "metadata": {},
   "outputs": [],
   "source": [
    "import nibabel as nib"
   ]
  },
  {
   "cell_type": "code",
   "execution_count": 3,
   "metadata": {},
   "outputs": [],
   "source": [
    "import os"
   ]
  },
  {
   "cell_type": "markdown",
   "metadata": {},
   "source": [
    "### setting variables"
   ]
  },
  {
   "cell_type": "code",
   "execution_count": 4,
   "metadata": {},
   "outputs": [],
   "source": [
    "data_path = '/Volumes/GRATTONLAB/Lifespan/BIDS/Nifti/derivatives/preproc_fmriprep-20.2.0/fmriprep/'"
   ]
  },
  {
   "cell_type": "code",
   "execution_count": 19,
   "metadata": {},
   "outputs": [],
   "source": [
    "subject = 'sub-LS07'"
   ]
  },
  {
   "cell_type": "code",
   "execution_count": 20,
   "metadata": {},
   "outputs": [],
   "source": [
    "sessions = [1, 2]"
   ]
  },
  {
   "cell_type": "code",
   "execution_count": 21,
   "metadata": {},
   "outputs": [],
   "source": [
    "runs = [7, 8]"
   ]
  },
  {
   "cell_type": "markdown",
   "metadata": {},
   "source": [
    "<h4> looping through sessions and runs to check datatype"
   ]
  },
  {
   "cell_type": "markdown",
   "metadata": {},
   "source": [
    "<h5> datatype should be float32 </h5>"
   ]
  },
  {
   "cell_type": "code",
   "execution_count": 22,
   "metadata": {},
   "outputs": [
    {
     "name": "stdout",
     "output_type": "stream",
     "text": [
      "sub-LS07 ses-1 run 1 datatype = float32\n",
      "sub-LS07 ses-1 run 2 datatype = float32\n",
      "sub-LS07 ses-1 run 3 datatype = float32\n",
      "sub-LS07 ses-1 run 4 datatype = float32\n",
      "sub-LS07 ses-1 run 5 datatype = float32\n",
      "sub-LS07 ses-1 run 6 datatype = float32\n",
      "sub-LS07 ses-1 run 7 datatype = float32\n",
      "sub-LS07 ses-2 run 1 datatype = float32\n",
      "sub-LS07 ses-2 run 2 datatype = float32\n",
      "sub-LS07 ses-2 run 3 datatype = float32\n",
      "sub-LS07 ses-2 run 4 datatype = float32\n",
      "sub-LS07 ses-2 run 5 datatype = float32\n",
      "sub-LS07 ses-2 run 6 datatype = float32\n",
      "sub-LS07 ses-2 run 7 datatype = float32\n",
      "sub-LS07 ses-2 run 8 datatype = float32\n"
     ]
    }
   ],
   "source": [
    "for ses in range(len(sessions)):\n",
    "    session = 'ses-' + str(sessions[ses])\n",
    "    #print(session)\n",
    "    ni_path = os.path.join(data_path, subject + '/' + session + '/func/')\n",
    "    #print(ni_path)\n",
    "    for run in range(1,runs[ses]+1):\n",
    "        #print('run-' + str(run))\n",
    "        filename = subject + '_' + session + '_task-rest_run-' + str(run) + '_space-MNI152NLin6Asym_res-2_desc-preproc_bold.nii.gz'\n",
    "        file = os.path.join(ni_path,filename)\n",
    "        img = nib.load(file)\n",
    "        hdr = img.header\n",
    "        datatype = hdr.get_data_dtype()\n",
    "        print(subject + ' ' + session + ' run ' + str(run) + ' datatype = ' + str(datatype))"
   ]
  },
  {
   "cell_type": "code",
   "execution_count": null,
   "metadata": {},
   "outputs": [],
   "source": []
  },
  {
   "cell_type": "markdown",
   "metadata": {},
   "source": []
  }
 ],
 "metadata": {
  "kernelspec": {
   "display_name": "Python 3",
   "language": "python",
   "name": "python3"
  },
  "language_info": {
   "codemirror_mode": {
    "name": "ipython",
    "version": 3
   },
   "file_extension": ".py",
   "mimetype": "text/x-python",
   "name": "python",
   "nbconvert_exporter": "python",
   "pygments_lexer": "ipython3",
   "version": "3.8.3"
  }
 },
 "nbformat": 4,
 "nbformat_minor": 4
}
